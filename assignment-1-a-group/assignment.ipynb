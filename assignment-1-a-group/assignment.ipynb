{
 "cells": [
  {
   "cell_type": "markdown",
   "metadata": {},
   "source": [
    "# Exercise 1 - First Steps with LaTeX and Git"
   ]
  },
  {
   "cell_type": "markdown",
   "metadata": {},
   "source": [
    "## Background\n",
    "\n",
    "In this exercise you will gain some more practical experience with LaTeX and Git. Moreover, you will learn the general workflow of completing assignments that are distributed via GitHub Classroom. \n",
    "\n",
    "## General Notes\n",
    "\n",
    "- If you are using a Windows computer, you might want to configure it to display file extensions as explained in this [tutorial](https://www.howtogeek.com/205086/beginner-how-to-make-windows-show-file-extensions/). All other operating systems will typically display them. \n",
    "- Use VS Code (or another text editor) to write and compile LaTeX.\n",
    "- Do not worry if you make a mistake with git that produces a weird commit history. We will not deduct points for that. But we will deduct points if you do not commit frequently and try to write good commit messages for each commit. A good commit message is a full sentence, i.e. starts with a capital letter and ends with a period. \n",
    "- Never put any generated output (including pdfs and other LaTex output under version control. Otherwise we will deduct points. \n",
    "- When we write shell or terminal this always means Powershell for Windows users and Terminal for Mac and Linux users. Feel free to use the versions embedded in VS Code. Only use something else if you really know what you are doing!"
   ]
  },
  {
   "cell_type": "markdown",
   "metadata": {},
   "source": [
    "## Tasks\n",
    "\n",
    "\n",
    "1. This is the first out of 6 assignments. When you decide to which location you clone the assignment repository, you should take this into account and already think about a suitable directory structure and naming scheme that will keep everything well structured and shell friendly (e.g. no spaces in file paths).\n",
    "\n",
    "   Discuss in your group what would be a good structure and get started. Make sure this is the same for everybody.\n",
    "\n",
    "   While we cannot see and grade how much you use the shell, we encourage you to use it as much as possible. For example to:\n",
    "   - generate directories\n",
    "   - generate files\n",
    "   - use git (there are graphical interfaces to git, but you should definitely not use them while learning)\n",
    "   - listing files in a directory\n",
    "   - ...\n",
    "\n",
    "2. If you have not already done so, click on the invitation link you received via GitHub classroom and clone the repository that was generated for you to your local machine.\n",
    "\n",
    "3. Create a `.gitignore` file and configure it such that any of the following will be ignored:\n",
    "    - all LaTeX outputs including pdfs\n",
    "    - all files that start with a `.` \n",
    "    - all folders called `__pycache__`\n",
    "\n",
    "    If for some reason you already committed files that should be ignored, please remove them. Commit the file before you proceed to the next step. You need `git add -f .gitignore` because you just told git to ignore files starting with a `.`. \n",
    "\n",
    "4. Add a LaTeX document called `solution.tex` to your repository. The file should contain a valid LaTeX preamble and have the documentclass `article`. Make sure it compiles. You can collaborate via live share, then one group member adds the file to git, commits and pushes to the central repository. This is the only time in your life where you might want to write a LaTeX preamble from scratch to learn what it means but you can also use some template. \n",
    "\n",
    "5. Each one of you should add one `.tex` file called `[firstname]_[lastname].tex` (placeholders appropriately replaced). This file does not need a preamble, as it will be included in the bigger document later, but you might want to structure it via `/section`, `/subsection` and the like. In this file, describe in one paragraph the way you have been doing research using a computer (or are planning to do it). We are looking for something like: Which tools you are using for what, how you are moving data around between different tools (if applicable). We want actual workflows, not idealized ones. This helps us to tailor the course to your needs.\n",
    "\n",
    "6. Each group member includes the files she wrote so far into `solution.tex` (using `/input` or `/include`), commits the changes and pushes to the central repository. Coordinate so you do not get merge conflicts. If you get merge conflicts, do not panic and learn how to solve them.\n",
    "\n",
    "7. Compile the document to a pdf. Make changes to the relevant files until your document is readable and well structured. \n",
    "\n",
    "8. Bonus task: Show off your LaTeX skills. Add your favorite formulae, images of dogs and cats; Maybe even a grid of images? Reference other sections or images in the text; Cite a paper and add a bibliography. I might show the best solutions in class. \n",
    "\n",
    "9. Make sure your final version is committed, on the main branch, and pushed to the GitHub repository. "
   ]
  },
  {
   "cell_type": "code",
   "execution_count": null,
   "metadata": {},
   "outputs": [],
   "source": []
  }
 ],
 "metadata": {
  "kernelspec": {
   "display_name": "Python 3 (ipykernel)",
   "language": "python",
   "name": "python3"
  },
  "language_info": {
   "codemirror_mode": {
    "name": "ipython",
    "version": 3
   },
   "file_extension": ".py",
   "mimetype": "text/x-python",
   "name": "python",
   "nbconvert_exporter": "python",
   "pygments_lexer": "ipython3",
   "version": "3.8.12"
  }
 },
 "nbformat": 4,
 "nbformat_minor": 2
}
